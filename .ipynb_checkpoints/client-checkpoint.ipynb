{
 "cells": [
  {
   "cell_type": "code",
   "execution_count": null,
   "metadata": {},
   "outputs": [
    {
     "name": "stdout",
     "output_type": "stream",
     "text": [
      "\n",
      "connecting to localhost port 10000\n"
     ]
    },
    {
     "name": "stdin",
     "output_type": "stream",
     "text": [
      "Kirim pesan:  print\n"
     ]
    },
    {
     "name": "stdout",
     "output_type": "stream",
     "text": [
      "\n",
      " 7072696e74\n",
      "2019-07-24 12:19:24\n"
     ]
    },
    {
     "name": "stdin",
     "output_type": "stream",
     "text": [
      "Kirim pesan:  kjhkjh\n"
     ]
    },
    {
     "name": "stdout",
     "output_type": "stream",
     "text": [
      "\n",
      " 6b6a686b6a68\n",
      "2019-07-24 12:19:31\n"
     ]
    },
    {
     "name": "stdin",
     "output_type": "stream",
     "text": [
      "Kirim pesan:  print\n"
     ]
    },
    {
     "name": "stdout",
     "output_type": "stream",
     "text": [
      "\n",
      " 7072696e74\n",
      "2019-07-24 12:19:54\n"
     ]
    }
   ],
   "source": [
    "import socket, datetime, time\n",
    "import random, string, sys\n",
    "\n",
    "def hexlify(s):\n",
    "    return s.encode().hex()\n",
    "\n",
    "# key = hexlify(''.join([random.choice(string.ascii_letters) for _ in range(1)]))\n",
    "\n",
    "# Create a TCP/IP socket\n",
    "sock = socket.socket(socket.AF_INET, socket.SOCK_STREAM)\n",
    "\n",
    "# Connect the socket to the port where the server is listening\n",
    "server_address = ('localhost', 10000)\n",
    "print('\\nconnecting to %s port %s' % server_address)\n",
    "sock.connect(server_address)\n",
    "msg = ''\n",
    "try:\n",
    "    #     key = hexlify(pesan+' '+str(count))\n",
    "    while msg != 'end':\n",
    "        msg = input(\"Kirim pesan: \")\n",
    "\n",
    "        if msg != '':\n",
    "            key = hexlify(msg)\n",
    "            print('\\n', key)\n",
    "            now = datetime.datetime.now()\n",
    "            print(now.strftime(\"%Y-%m-%d %H:%M:%S\"))\n",
    "            sock.sendall(key.encode())\n",
    "\n",
    "#         count+=1\n",
    "#         time.sleep(3)\n",
    "\n",
    "finally:\n",
    "    print('closing socket')\n",
    "    sock.close()"
   ]
  }
 ],
 "metadata": {
  "kernelspec": {
   "display_name": "Python 3",
   "language": "python",
   "name": "python3"
  },
  "language_info": {
   "codemirror_mode": {
    "name": "ipython",
    "version": 3
   },
   "file_extension": ".py",
   "mimetype": "text/x-python",
   "name": "python",
   "nbconvert_exporter": "python",
   "pygments_lexer": "ipython3",
   "version": "3.6.5"
  }
 },
 "nbformat": 4,
 "nbformat_minor": 2
}
