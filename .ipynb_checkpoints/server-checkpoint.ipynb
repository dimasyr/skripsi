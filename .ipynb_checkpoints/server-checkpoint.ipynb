{
 "cells": [
  {
   "cell_type": "code",
   "execution_count": null,
   "metadata": {},
   "outputs": [
    {
     "name": "stdout",
     "output_type": "stream",
     "text": [
      "menunggu koneksi\n",
      "connection from ('127.0.0.1', 65420)\n",
      "data belum ada\n",
      "waktu = 2019-07-24 12:19:31\n",
      "bytes\n",
      "b'6b6a686b6a68'\n",
      "string\n",
      "6b6a686b6a68\n",
      "teks asli\n",
      "kjhkjh \n",
      "\n",
      "\n",
      "Stream last item data = 6b6a686b6a68\n",
      "Stream last item confirmations = 0\n",
      "\n",
      "Stream last item data = 6b6a686b6a68\n",
      "Stream last item confirmations : 1\n",
      "Waktu mining = 17.267725467681885\n"
     ]
    },
    {
     "data": {
      "text/plain": [
       "<Figure size 640x480 with 1 Axes>"
      ]
     },
     "metadata": {},
     "output_type": "display_data"
    }
   ],
   "source": [
    "import socket, sys, datetime\n",
    "from multichain import Multichain\n",
    "\n",
    "# connect to chain1\n",
    "Chain1 = Multichain('multichainrpc', '44hCoTauwmQTSxtvQ9au99QqzjBs6pkPriqayqjYqF6f', 'localhost', '7172', 'chain1')\n",
    "\n",
    "# create tcp/ip socket\n",
    "sock = socket.socket(socket.AF_INET, socket.SOCK_STREAM)\n",
    "\n",
    "# bind the socket to the port\n",
    "# server_address = ('192.168.12.26', 10000) # lan\n",
    "server_address = ('localhost', 10000) # local\n",
    "\n",
    "sock.setsockopt(socket.SOL_SOCKET, socket.SO_REUSEADDR, 1)\n",
    "sock.bind(server_address)\n",
    "\n",
    "# listen for incoming transmission\n",
    "sock.listen(1)\n",
    "print('menunggu koneksi')\n",
    "client_socket, client_address = sock.accept()\n",
    "print(f'connection from {client_address}')\n",
    "\n",
    "# count = 0\n",
    "\n",
    "msg = ''\n",
    "\n",
    "# wait for a connection\n",
    "try:\n",
    "    while msg != 'end':\n",
    "        #   receive the data in bytes\n",
    "        data = client_socket.recv(4096)\n",
    "\n",
    "        #   convert bytes to hex string\n",
    "        data_decode = data.decode()\n",
    "\n",
    "        #   hex to string\n",
    "        data_asli = bytes.fromhex(data_decode).decode('utf-8')\n",
    "\n",
    "        if data_asli == 'printlen':\n",
    "            Chain1.lenCPU()\n",
    "            print(Chain1.cpu_usage)\n",
    "        elif data_asli == 'print':\n",
    "            Chain1.printCpuUsage()\n",
    "        elif data_asli != 'end' and data_asli != '':\n",
    "            now = datetime.datetime.now()\n",
    "            print('waktu =', now.strftime(\"%Y-%m-%d %H:%M:%S\"))\n",
    "            print('bytes')\n",
    "            print(data)\n",
    "            print('string')\n",
    "            print(data_decode)\n",
    "            print('teks asli')\n",
    "            print(data_asli, '\\n')\n",
    "            Chain1.publishStream('stream1', 'key1', data_decode)\n",
    "\n",
    "            msg = data_asli\n",
    "        else:\n",
    "            msg = data_asli\n",
    "            print(msg)\n",
    "\n",
    "finally:\n",
    "    #   Clean up the connection\n",
    "    client_socket.close()\n",
    "    print('connection ended')"
   ]
  }
 ],
 "metadata": {
  "kernelspec": {
   "display_name": "Python 3",
   "language": "python",
   "name": "python3"
  },
  "language_info": {
   "codemirror_mode": {
    "name": "ipython",
    "version": 3
   },
   "file_extension": ".py",
   "mimetype": "text/x-python",
   "name": "python",
   "nbconvert_exporter": "python",
   "pygments_lexer": "ipython3",
   "version": "3.6.5"
  }
 },
 "nbformat": 4,
 "nbformat_minor": 2
}
